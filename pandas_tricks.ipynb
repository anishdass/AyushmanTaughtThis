{
  "nbformat": 4,
  "nbformat_minor": 0,
  "metadata": {
    "colab": {
      "name": "pandas_tricks.ipynb",
      "provenance": [],
      "toc_visible": true,
      "authorship_tag": "ABX9TyNn7arzu1N9A1cRfeQsB3T2",
      "include_colab_link": true
    },
    "kernelspec": {
      "name": "python3",
      "display_name": "Python 3"
    }
  },
  "cells": [
    {
      "cell_type": "markdown",
      "metadata": {
        "id": "view-in-github",
        "colab_type": "text"
      },
      "source": [
        "<a href=\"https://colab.research.google.com/github/anishdass/AyushmanTaughtThis/blob/master/pandas_tricks.ipynb\" target=\"_parent\"><img src=\"https://colab.research.google.com/assets/colab-badge.svg\" alt=\"Open In Colab\"/></a>"
      ]
    },
    {
      "cell_type": "code",
      "metadata": {
        "id": "K-2HSodzrTNw",
        "colab_type": "code",
        "colab": {}
      },
      "source": [
        "import pandas as pd\n",
        "import numpy as np\n",
        "import matplotlib.pyplot as plt"
      ],
      "execution_count": 0,
      "outputs": []
    },
    {
      "cell_type": "code",
      "metadata": {
        "id": "ZhN6_p2RrvsF",
        "colab_type": "code",
        "colab": {
          "base_uri": "https://localhost:8080/",
          "height": 104
        },
        "outputId": "1c4374c8-bf1f-41c8-8aea-5206cb712de2"
      },
      "source": [
        "##Trick 1: Select prescribed percentage of rows for manipulating\n",
        "\n",
        "accidents = pd.read_csv('US_Accidents_Dec19.csv')\n",
        "\n",
        "print('shape of the dataframe = {}'.format(accidents.shape))\n",
        "\n",
        "accidents = pd.read_csv('US_Accidents_Dec19.csv', skiprows= lambda x:x > 0 and np.random.rand() > .01) #.01 means we're skipping 99% of the total rows.\n",
        "\n",
        "print('shape of the dataframe after skipping rows = {}'.format(accidents.shape))"
      ],
      "execution_count": 17,
      "outputs": [
        {
          "output_type": "stream",
          "text": [
            "shape of the dataframe = (24806, 49)\n",
            "shape of the dataframe after skipping rows = (217, 49)\n"
          ],
          "name": "stdout"
        },
        {
          "output_type": "stream",
          "text": [
            "/usr/local/lib/python3.6/dist-packages/IPython/core/interactiveshell.py:2718: DtypeWarning: Columns (32,33,34,35,36,37,38,39,40,41,42,43,44) have mixed types.Specify dtype option on import or set low_memory=False.\n",
            "  interactivity=interactivity, compiler=compiler, result=result)\n"
          ],
          "name": "stderr"
        }
      ]
    },
    {
      "cell_type": "code",
      "metadata": {
        "id": "ZRZOKd_mt-T7",
        "colab_type": "code",
        "colab": {
          "base_uri": "https://localhost:8080/",
          "height": 268
        },
        "outputId": "255d381a-7919-43f0-afe0-1f173d489513"
      },
      "source": [
        "#Trick 2: Avoiding unnamed: 0 columns\n",
        "\n",
        "d = {\\\n",
        "     'zip_code': [12345, 56789, 101112, 131415],\n",
        "     'factory':[100, 400, 500, 600],\n",
        "     'warehouse':[200, 300, 400, 500],\n",
        "     'retail':[1, 2, 3, 4]\n",
        "     }\n",
        "\n",
        "address = pd.DataFrame(d)\n",
        "print(address)\n",
        "\n",
        "df.to_csv('unnamed0.csv')#Way 3: index = False)\n",
        "\n",
        "unnamed0_1 = pd.read_csv('unnamed0.csv')\n",
        "\n",
        "print(unnamed0_1) ##Here you can find the newly created column which was not there previously creating named 'unnamed0'\n",
        "\n",
        "#How to avoid it\n",
        "\n",
        "\n",
        "#Way 1\n",
        "unnamed0_1 = pd.read_csv('unnamed0.csv', index_col=0)\n",
        "\n",
        "#Way 2\n",
        "#unnamed0_1 = unnamed0_1.drop(['Unnamed: 0'], axis = 1)\n",
        "\n",
        "print(unnamed0_1)"
      ],
      "execution_count": 44,
      "outputs": [
        {
          "output_type": "stream",
          "text": [
            "   zip_code  factory  warehouse  retail\n",
            "0     12345      100        200       1\n",
            "1     56789      400        300       2\n",
            "2    101112      500        400       3\n",
            "3    131415      600        500       4\n",
            "   Unnamed: 0  zip code  factory  warehouse  retail\n",
            "0           0     12345      100        200       1\n",
            "1           1     56789      400        300       2\n",
            "2           2    101112      500        400       3\n",
            "3           3    131415      600        500       4\n",
            "   zip code  factory  warehouse  retail\n",
            "0     12345      100        200       1\n",
            "1     56789      400        300       2\n",
            "2    101112      500        400       3\n",
            "3    131415      600        500       4\n"
          ],
          "name": "stdout"
        }
      ]
    },
    {
      "cell_type": "code",
      "metadata": {
        "id": "mcgbSgkEwkIa",
        "colab_type": "code",
        "colab": {
          "base_uri": "https://localhost:8080/",
          "height": 318
        },
        "outputId": "ddaafe1b-f8d3-481e-c438-1a9fd8f30e8d"
      },
      "source": [
        "##Trick 3: \n",
        "#Convert a wide df into a long one, basically decreasing the breadth and increasing the length\n",
        "#Refer previous dataframe\n",
        "\n",
        "address = address.melt(id_vars = 'zip_code', var_name = 'location_type', value_name = 'distance')\n",
        "\n",
        "print(address)\n",
        "\n",
        "\n"
      ],
      "execution_count": 45,
      "outputs": [
        {
          "output_type": "stream",
          "text": [
            "   zip_code  factory  warehouse  retail\n",
            "0     12345      100        200       1\n",
            "1     56789      400        300       2\n",
            "2    101112      500        400       3\n",
            "3    131415      600        500       4\n",
            "    zip_code location_type  distance\n",
            "0      12345       factory       100\n",
            "1      56789       factory       400\n",
            "2     101112       factory       500\n",
            "3     131415       factory       600\n",
            "4      12345     warehouse       200\n",
            "5      56789     warehouse       300\n",
            "6     101112     warehouse       400\n",
            "7     131415     warehouse       500\n",
            "8      12345        retail         1\n",
            "9      56789        retail         2\n",
            "10    101112        retail         3\n",
            "11    131415        retail         4\n"
          ],
          "name": "stdout"
        }
      ]
    },
    {
      "cell_type": "code",
      "metadata": {
        "id": "UwlGUgfr3UX4",
        "colab_type": "code",
        "colab": {
          "base_uri": "https://localhost:8080/",
          "height": 270
        },
        "outputId": "387adb18-d1f1-401e-a269-289e8eb655cb"
      },
      "source": [
        "#Trick 4:\n",
        "#Convert year and day of year in a single datetime column\n",
        "\n",
        "time = {\n",
        "    'year':[2019, 2019, 2020],\n",
        "    'day_of_year':[350, 361, 1]\n",
        "}\n",
        "\n",
        "time_df = pd.DataFrame(time)\n",
        "print(time_df)\n",
        "\n",
        "time_df['combined'] = time_df['year']*1000 + time_df['day_of_year']\n",
        "print(time_df)\n",
        "\n",
        "time_df['date'] = pd.to_datetime(time_df['combined'], format = '%Y%j') ##Cheatsheet\n",
        "time_df"
      ],
      "execution_count": 58,
      "outputs": [
        {
          "output_type": "stream",
          "text": [
            "   year  day_of_year\n",
            "0  2019          350\n",
            "1  2019          361\n",
            "2  2020            1\n",
            "   year  day_of_year  combined\n",
            "0  2019          350   2019350\n",
            "1  2019          361   2019361\n",
            "2  2020            1   2020001\n"
          ],
          "name": "stdout"
        },
        {
          "output_type": "execute_result",
          "data": {
            "text/html": [
              "<div>\n",
              "<style scoped>\n",
              "    .dataframe tbody tr th:only-of-type {\n",
              "        vertical-align: middle;\n",
              "    }\n",
              "\n",
              "    .dataframe tbody tr th {\n",
              "        vertical-align: top;\n",
              "    }\n",
              "\n",
              "    .dataframe thead th {\n",
              "        text-align: right;\n",
              "    }\n",
              "</style>\n",
              "<table border=\"1\" class=\"dataframe\">\n",
              "  <thead>\n",
              "    <tr style=\"text-align: right;\">\n",
              "      <th></th>\n",
              "      <th>year</th>\n",
              "      <th>day_of_year</th>\n",
              "      <th>combined</th>\n",
              "      <th>date</th>\n",
              "    </tr>\n",
              "  </thead>\n",
              "  <tbody>\n",
              "    <tr>\n",
              "      <th>0</th>\n",
              "      <td>2019</td>\n",
              "      <td>350</td>\n",
              "      <td>2019350</td>\n",
              "      <td>2019-12-16</td>\n",
              "    </tr>\n",
              "    <tr>\n",
              "      <th>1</th>\n",
              "      <td>2019</td>\n",
              "      <td>361</td>\n",
              "      <td>2019361</td>\n",
              "      <td>2019-12-27</td>\n",
              "    </tr>\n",
              "    <tr>\n",
              "      <th>2</th>\n",
              "      <td>2020</td>\n",
              "      <td>1</td>\n",
              "      <td>2020001</td>\n",
              "      <td>2020-01-01</td>\n",
              "    </tr>\n",
              "  </tbody>\n",
              "</table>\n",
              "</div>"
            ],
            "text/plain": [
              "   year  day_of_year  combined       date\n",
              "0  2019          350   2019350 2019-12-16\n",
              "1  2019          361   2019361 2019-12-27\n",
              "2  2020            1   2020001 2020-01-01"
            ]
          },
          "metadata": {
            "tags": []
          },
          "execution_count": 58
        }
      ]
    },
    {
      "cell_type": "code",
      "metadata": {
        "id": "_Qa7oHDW-Y0y",
        "colab_type": "code",
        "colab": {
          "base_uri": "https://localhost:8080/",
          "height": 280
        },
        "outputId": "88074846-8851-42dd-b8ff-7c2698e7c52b"
      },
      "source": [
        "##Pending\n",
        "#Trick 5: Interactive plots out of box in pandas\n",
        "#upload drinks dataset\n",
        "\n",
        "drinks = pd.read_csv('drinks.csv')\n",
        "drinks.plot(kind = 'scatter', x = 'spirit_servings', y = 'wine_servings', alpha = 0.5)\n",
        "plt.show()"
      ],
      "execution_count": 80,
      "outputs": [
        {
          "output_type": "display_data",
          "data": {
            "image/png": "[encoded data removed]",
            "text/plain": [
              "<Figure size 432x288 with 1 Axes>"
            ]
          },
          "metadata": {
            "tags": [],
            "needs_background": "light"
          }
        }
      ]
    },
    {
      "cell_type": "code",
      "metadata": {
        "id": "vieqrz1iFPXb",
        "colab_type": "code",
        "colab": {
          "base_uri": "https://localhost:8080/",
          "height": 84
        },
        "outputId": "70276a83-a2f7-4557-8fe2-7629fbf51d1d"
      },
      "source": [
        "##Trick 6:\n",
        "#Count all the missing values\n",
        "missing = {\\\n",
        "           'col1':[2019, 2019, 2020],\n",
        "           'col2':[365, np.nan, 1],\n",
        "           'col3':[np.nan, 365, None]\n",
        "           }\n",
        "\n",
        "missing_df = pd.DataFrame(missing)\n",
        "\n",
        "#Way1\n",
        "missing_df.isnull().sum().sum()\n",
        "\n",
        "#Way2\n",
        "missing_df.isna().sum().sum()\n",
        "\n",
        "#Way3\n",
        "missing_df.isna().any()"
      ],
      "execution_count": 106,
      "outputs": [
        {
          "output_type": "execute_result",
          "data": {
            "text/plain": [
              "col1    True\n",
              "col2    True\n",
              "col3    True\n",
              "dtype: bool"
            ]
          },
          "metadata": {
            "tags": []
          },
          "execution_count": 106
        }
      ]
    },
    {
      "cell_type": "code",
      "metadata": {
        "id": "BEOLX-N1F341",
        "colab_type": "code",
        "colab": {
          "base_uri": "https://localhost:8080/",
          "height": 217
        },
        "outputId": "a38571d5-5759-440e-f2b5-1bd3945b4c15"
      },
      "source": [
        "#Trick 7:\n",
        "#Save memory by fixing your date\n",
        "\n",
        "titanic = pd.read_csv('train.csv', usecols= ['Pclass','Sex','Parch', 'Cabin'])\n",
        "titanic.head()\n",
        "\n",
        "print(titanic.memory_usage( deep=True ))\n",
        "\n",
        "titanic_1 = titanic.astype({\n",
        "    'Pclass':'int8',\n",
        "    'Sex':'category',\n",
        "    'Parch':'Sparse[int]',\n",
        "    'Cabin':'Sparse[str]',\n",
        "    })\n",
        "\n",
        "print(titanic_1.memory_usage(deep = True))"
      ],
      "execution_count": 121,
      "outputs": [
        {
          "output_type": "stream",
          "text": [
            "Index       128\n",
            "Pclass     7128\n",
            "Sex       54979\n",
            "Parch      7128\n",
            "Cabin     34376\n",
            "dtype: int64\n",
            "Index       128\n",
            "Pclass      891\n",
            "Sex        1095\n",
            "Parch      2556\n",
            "Cabin     29696\n",
            "dtype: int64\n"
          ],
          "name": "stdout"
        }
      ]
    },
    {
      "cell_type": "code",
      "metadata": {
        "id": "iwS4AWQXIKio",
        "colab_type": "code",
        "colab": {
          "base_uri": "https://localhost:8080/",
          "height": 630
        },
        "outputId": "6f822546-a762-4ca9-b5ca-a20b24975839"
      },
      "source": [
        "##Trick 8:\n",
        "#Combine small categories into a single category called others\n",
        "\n",
        "d = {\\\n",
        "     'genre':['A','A','B','S','J','G','D','J','H','A','S','D','O','H','F','W','H','F','A','S','S','B','C','K','S','D','H','F','O','I','E','R','O','T','H','W','E','E','O','R','H','D','K','B','K','X','B','K','V','B','S','K','G','E','H','G','O','I','J','K','B','X','C','K','B','K','V','J','B','J','H','G','O']\n",
        "     }\n",
        "\n",
        "genre_df = pd.DataFrame(d)\n",
        "\n",
        "print(genre_df)\n",
        "\n",
        "frequencies = genre_df['genre'].value_counts(normalize = True)\n",
        "frequencies\n",
        "\n",
        "threshold = 0.1\n",
        "small_categories = frequencies[frequencies < threshold].index\n",
        "print(small_categories)\n",
        "\n",
        "genre_df['genre'] = genre_df['genre'].replace(small_categories, 'Others')\n",
        "\n",
        "genre_df['genre'].value_counts(normalize = True)\n",
        "\n",
        "genre_df.head(10)"
      ],
      "execution_count": 144,
      "outputs": [
        {
          "output_type": "stream",
          "text": [
            "   genre\n",
            "0      A\n",
            "1      A\n",
            "2      B\n",
            "3      S\n",
            "4      J\n",
            "..   ...\n",
            "68     B\n",
            "69     J\n",
            "70     H\n",
            "71     G\n",
            "72     O\n",
            "\n",
            "[73 rows x 1 columns]\n",
            "Index(['S', 'O', 'J', 'E', 'G', 'A', 'D', 'F', 'X', 'R', 'C', 'W', 'I', 'V',\n",
            "       'T'],\n",
            "      dtype='object')\n"
          ],
          "name": "stdout"
        },
        {
          "output_type": "execute_result",
          "data": {
            "text/html": [
              "<div>\n",
              "<style scoped>\n",
              "    .dataframe tbody tr th:only-of-type {\n",
              "        vertical-align: middle;\n",
              "    }\n",
              "\n",
              "    .dataframe tbody tr th {\n",
              "        vertical-align: top;\n",
              "    }\n",
              "\n",
              "    .dataframe thead th {\n",
              "        text-align: right;\n",
              "    }\n",
              "</style>\n",
              "<table border=\"1\" class=\"dataframe\">\n",
              "  <thead>\n",
              "    <tr style=\"text-align: right;\">\n",
              "      <th></th>\n",
              "      <th>genre</th>\n",
              "    </tr>\n",
              "  </thead>\n",
              "  <tbody>\n",
              "    <tr>\n",
              "      <th>0</th>\n",
              "      <td>Others</td>\n",
              "    </tr>\n",
              "    <tr>\n",
              "      <th>1</th>\n",
              "      <td>Others</td>\n",
              "    </tr>\n",
              "    <tr>\n",
              "      <th>2</th>\n",
              "      <td>B</td>\n",
              "    </tr>\n",
              "    <tr>\n",
              "      <th>3</th>\n",
              "      <td>Others</td>\n",
              "    </tr>\n",
              "    <tr>\n",
              "      <th>4</th>\n",
              "      <td>Others</td>\n",
              "    </tr>\n",
              "    <tr>\n",
              "      <th>5</th>\n",
              "      <td>Others</td>\n",
              "    </tr>\n",
              "    <tr>\n",
              "      <th>6</th>\n",
              "      <td>Others</td>\n",
              "    </tr>\n",
              "    <tr>\n",
              "      <th>7</th>\n",
              "      <td>Others</td>\n",
              "    </tr>\n",
              "    <tr>\n",
              "      <th>8</th>\n",
              "      <td>H</td>\n",
              "    </tr>\n",
              "    <tr>\n",
              "      <th>9</th>\n",
              "      <td>Others</td>\n",
              "    </tr>\n",
              "  </tbody>\n",
              "</table>\n",
              "</div>"
            ],
            "text/plain": [
              "    genre\n",
              "0  Others\n",
              "1  Others\n",
              "2       B\n",
              "3  Others\n",
              "4  Others\n",
              "5  Others\n",
              "6  Others\n",
              "7  Others\n",
              "8       H\n",
              "9  Others"
            ]
          },
          "metadata": {
            "tags": []
          },
          "execution_count": 144
        }
      ]
    },
    {
      "cell_type": "code",
      "metadata": {
        "id": "TxOT-_FINZjA",
        "colab_type": "code",
        "colab": {
          "base_uri": "https://localhost:8080/",
          "height": 166
        },
        "outputId": "f6cfde2b-4cb1-4b1c-9174-5d65723a01ca"
      },
      "source": [
        "##Trick 9\n",
        "#Clean object column with mixed data using regex\n",
        "\n",
        "d = {\\\n",
        "     'Customers':['A', 'B', 'C', 'D'],\n",
        "     'sales':[1100, 950.75, '$400', '$1250.35']\n",
        "     }\n",
        "\n",
        "customer_df = pd.DataFrame(d) \n",
        "customer_df.head()\n",
        "\n",
        "\n",
        "customer_df['sales'].apply(type)\n",
        "\n",
        "customer_df['sales'] = customer_df['sales'].replace('[$,]','', regex = True).astype('float') ##Doubt\n",
        "\n",
        "customer_df['sales'].apply(type)\n",
        "\n",
        "customer_df.head()"
      ],
      "execution_count": 153,
      "outputs": [
        {
          "output_type": "execute_result",
          "data": {
            "text/html": [
              "<div>\n",
              "<style scoped>\n",
              "    .dataframe tbody tr th:only-of-type {\n",
              "        vertical-align: middle;\n",
              "    }\n",
              "\n",
              "    .dataframe tbody tr th {\n",
              "        vertical-align: top;\n",
              "    }\n",
              "\n",
              "    .dataframe thead th {\n",
              "        text-align: right;\n",
              "    }\n",
              "</style>\n",
              "<table border=\"1\" class=\"dataframe\">\n",
              "  <thead>\n",
              "    <tr style=\"text-align: right;\">\n",
              "      <th></th>\n",
              "      <th>Customers</th>\n",
              "      <th>sales</th>\n",
              "    </tr>\n",
              "  </thead>\n",
              "  <tbody>\n",
              "    <tr>\n",
              "      <th>0</th>\n",
              "      <td>A</td>\n",
              "      <td>1100.00</td>\n",
              "    </tr>\n",
              "    <tr>\n",
              "      <th>1</th>\n",
              "      <td>B</td>\n",
              "      <td>950.75</td>\n",
              "    </tr>\n",
              "    <tr>\n",
              "      <th>2</th>\n",
              "      <td>C</td>\n",
              "      <td>400.00</td>\n",
              "    </tr>\n",
              "    <tr>\n",
              "      <th>3</th>\n",
              "      <td>D</td>\n",
              "      <td>1250.35</td>\n",
              "    </tr>\n",
              "  </tbody>\n",
              "</table>\n",
              "</div>"
            ],
            "text/plain": [
              "  Customers    sales\n",
              "0         A  1100.00\n",
              "1         B   950.75\n",
              "2         C   400.00\n",
              "3         D  1250.35"
            ]
          },
          "metadata": {
            "tags": []
          },
          "execution_count": 153
        }
      ]
    },
    {
      "cell_type": "code",
      "metadata": {
        "id": "Gzn5Y2U7Ti8c",
        "colab_type": "code",
        "colab": {
          "base_uri": "https://localhost:8080/",
          "height": 404
        },
        "outputId": "980e8d98-d15c-49a7-c760-9b380f4e1cea"
      },
      "source": [
        "#Trick 10:\n",
        "#Creating a time series dataset for testing\n",
        "hours_in_a_year = 365*24\n",
        "\n",
        "time_dataframe = pd.util.testing.makeTimeDataFrame(hours_in_a_year, freq = 'H')\n",
        "\n",
        "num_cols = 2\n",
        "\n",
        "cols = ['sales', 'customer']\n",
        "\n",
        "time_df = pd.DataFrame(np.random.randint(1, 100, size = (hours_in_a_year, num_cols)), columns= cols)\n",
        "\n",
        "time_df.index = pd.util.testing.makeDateIndex(hours_in_a_year, freq= 'H')\n",
        "\n",
        "time_df"
      ],
      "execution_count": 159,
      "outputs": [
        {
          "output_type": "execute_result",
          "data": {
            "text/html": [
              "<div>\n",
              "<style scoped>\n",
              "    .dataframe tbody tr th:only-of-type {\n",
              "        vertical-align: middle;\n",
              "    }\n",
              "\n",
              "    .dataframe tbody tr th {\n",
              "        vertical-align: top;\n",
              "    }\n",
              "\n",
              "    .dataframe thead th {\n",
              "        text-align: right;\n",
              "    }\n",
              "</style>\n",
              "<table border=\"1\" class=\"dataframe\">\n",
              "  <thead>\n",
              "    <tr style=\"text-align: right;\">\n",
              "      <th></th>\n",
              "      <th>sales</th>\n",
              "      <th>customer</th>\n",
              "    </tr>\n",
              "  </thead>\n",
              "  <tbody>\n",
              "    <tr>\n",
              "      <th>2000-01-01 00:00:00</th>\n",
              "      <td>32</td>\n",
              "      <td>75</td>\n",
              "    </tr>\n",
              "    <tr>\n",
              "      <th>2000-01-01 01:00:00</th>\n",
              "      <td>36</td>\n",
              "      <td>53</td>\n",
              "    </tr>\n",
              "    <tr>\n",
              "      <th>2000-01-01 02:00:00</th>\n",
              "      <td>13</td>\n",
              "      <td>23</td>\n",
              "    </tr>\n",
              "    <tr>\n",
              "      <th>2000-01-01 03:00:00</th>\n",
              "      <td>12</td>\n",
              "      <td>4</td>\n",
              "    </tr>\n",
              "    <tr>\n",
              "      <th>2000-01-01 04:00:00</th>\n",
              "      <td>19</td>\n",
              "      <td>47</td>\n",
              "    </tr>\n",
              "    <tr>\n",
              "      <th>...</th>\n",
              "      <td>...</td>\n",
              "      <td>...</td>\n",
              "    </tr>\n",
              "    <tr>\n",
              "      <th>2000-12-30 19:00:00</th>\n",
              "      <td>37</td>\n",
              "      <td>61</td>\n",
              "    </tr>\n",
              "    <tr>\n",
              "      <th>2000-12-30 20:00:00</th>\n",
              "      <td>12</td>\n",
              "      <td>74</td>\n",
              "    </tr>\n",
              "    <tr>\n",
              "      <th>2000-12-30 21:00:00</th>\n",
              "      <td>89</td>\n",
              "      <td>85</td>\n",
              "    </tr>\n",
              "    <tr>\n",
              "      <th>2000-12-30 22:00:00</th>\n",
              "      <td>96</td>\n",
              "      <td>31</td>\n",
              "    </tr>\n",
              "    <tr>\n",
              "      <th>2000-12-30 23:00:00</th>\n",
              "      <td>86</td>\n",
              "      <td>26</td>\n",
              "    </tr>\n",
              "  </tbody>\n",
              "</table>\n",
              "<p>8760 rows × 2 columns</p>\n",
              "</div>"
            ],
            "text/plain": [
              "                     sales  customer\n",
              "2000-01-01 00:00:00     32        75\n",
              "2000-01-01 01:00:00     36        53\n",
              "2000-01-01 02:00:00     13        23\n",
              "2000-01-01 03:00:00     12         4\n",
              "2000-01-01 04:00:00     19        47\n",
              "...                    ...       ...\n",
              "2000-12-30 19:00:00     37        61\n",
              "2000-12-30 20:00:00     12        74\n",
              "2000-12-30 21:00:00     89        85\n",
              "2000-12-30 22:00:00     96        31\n",
              "2000-12-30 23:00:00     86        26\n",
              "\n",
              "[8760 rows x 2 columns]"
            ]
          },
          "metadata": {
            "tags": []
          },
          "execution_count": 159
        }
      ]
    },
    {
      "cell_type": "code",
      "metadata": {
        "id": "s77d_0_VYZWE",
        "colab_type": "code",
        "colab": {}
      },
      "source": [
        ""
      ],
      "execution_count": 0,
      "outputs": []
    }
  ]
}